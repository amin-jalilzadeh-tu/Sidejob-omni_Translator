{
 "cells": [
  {
   "cell_type": "code",
   "execution_count": 1,
   "metadata": {},
   "outputs": [
    {
     "name": "stdout",
     "output_type": "stream",
     "text": [
      "Requirement already satisfied: pymupdf in d:\\new folder (2)\\anaconda\\ddsaie\\lib\\site-packages (1.23.26)\n",
      "Requirement already satisfied: PyMuPDFb==1.23.22 in d:\\new folder (2)\\anaconda\\ddsaie\\lib\\site-packages (from pymupdf) (1.23.22)\n",
      "Note: you may need to restart the kernel to use updated packages.\n"
     ]
    }
   ],
   "source": [
    "pip install pymupdf\n"
   ]
  },
  {
   "cell_type": "code",
   "execution_count": 7,
   "metadata": {},
   "outputs": [],
   "source": [
    "import fitz  # PyMuPDF\n",
    "import os\n",
    "\n",
    "def split_pdf(input_pdf_path, output_dir, pages_per_split=80):\n",
    "    # Open the input PDF file\n",
    "    pdf_document = fitz.open(input_pdf_path)\n",
    "    total_pages = len(pdf_document)\n",
    "    \n",
    "    # Ensure the output directory exists\n",
    "    if not os.path.exists(output_dir):\n",
    "        os.makedirs(output_dir)\n",
    "    \n",
    "    # Loop through the document and split it into chunks\n",
    "    for i in range(0, total_pages, pages_per_split):\n",
    "        # Calculate the range of pages for this chunk\n",
    "        start_page = i\n",
    "        end_page = min(i + pages_per_split - 1, total_pages - 1)\n",
    "        \n",
    "        # Create a new PDF for each chunk\n",
    "        chunk_pdf = fitz.open()\n",
    "        chunk_pdf.insert_pdf(pdf_document, from_page=start_page, to_page=end_page)\n",
    "        \n",
    "        # Save the chunk PDF with a filename indicating the page range\n",
    "        output_pdf_path = os.path.join(output_dir, f\"pages_{start_page + 1}_to_{end_page + 1}.pdf\")\n",
    "        chunk_pdf.save(output_pdf_path)\n",
    "        chunk_pdf.close()\n",
    "    \n",
    "    # Close the input PDF document\n",
    "    pdf_document.close()\n",
    "\n"
   ]
  },
  {
   "cell_type": "code",
   "execution_count": 8,
   "metadata": {},
   "outputs": [],
   "source": [
    "# Example usage:\n",
    "input_pdf_path = \"D:\\\\NTA 8800_2024 nl.pdf\"\n",
    "output_dir = \"D:\\Try21\"\n",
    "split_pdf(input_pdf_path, output_dir)\n"
   ]
  },
  {
   "cell_type": "markdown",
   "metadata": {},
   "source": [
    "# custom chank"
   ]
  },
  {
   "cell_type": "code",
   "execution_count": 13,
   "metadata": {},
   "outputs": [],
   "source": [
    "import fitz  # PyMuPDF\n",
    "import os\n",
    "\n",
    "def split_pdf_custom_ranges(input_pdf_path, output_dir, page_ranges):\n",
    "    \"\"\"\n",
    "    Splits the PDF based on custom page ranges.\n",
    "\n",
    "    Parameters:\n",
    "    - input_pdf_path: Path to the input PDF file.\n",
    "    - output_dir: Directory to save the output PDFs.\n",
    "    - page_ranges: List of tuples where each tuple contains (start_page, end_page).\n",
    "    \"\"\"\n",
    "    # Open the input PDF file\n",
    "    pdf_document = fitz.open(input_pdf_path)\n",
    "    total_pages = len(pdf_document)\n",
    "    \n",
    "    # Ensure the output directory exists\n",
    "    if not os.path.exists(output_dir):\n",
    "        os.makedirs(output_dir)\n",
    "    \n",
    "    for start_page, end_page in page_ranges:\n",
    "        # Ensure the start and end pages are within the document's range\n",
    "        if start_page < 1 or end_page > total_pages or start_page > end_page:\n",
    "            print(f\"Invalid range: {start_page} to {end_page}. Skipping.\")\n",
    "            continue\n",
    "        \n",
    "        # Create a new PDF for the specified range\n",
    "        chunk_pdf = fitz.open()\n",
    "        chunk_pdf.insert_pdf(pdf_document, from_page=start_page - 1, to_page=end_page - 1)\n",
    "        \n",
    "        # Save the chunk PDF with a filename indicating the page range\n",
    "        output_pdf_path = os.path.join(output_dir, f\"pages_{start_page}_to_{end_page}.pdf\")\n",
    "        chunk_pdf.save(output_pdf_path)\n",
    "        chunk_pdf.close()\n",
    "    \n",
    "    # Close the input PDF document\n",
    "    pdf_document.close()\n",
    "\n",
    "\n"
   ]
  },
  {
   "cell_type": "code",
   "execution_count": 17,
   "metadata": {},
   "outputs": [],
   "source": [
    "# Example usage:\n",
    "input_pdf_path = \"D:\\\\NTA 8800_2024 nl.pdf\"\n",
    "output_dir = \"D:\\Try21\"\n",
    "page_ranges = [(1,9), (10,10), (11,18), (19,49), (50,67), (68,124), (125,152), (153,205), (206,267), (268,349), (350,409), (410,503), (504,508), (509,638), (639,659), (660,660), (661,672), (673,745), (746,750), (751,752), (753,769), (770,776), (777,794), (795,798), (799,800), (801,801), (802,823), (824,826), (827,847), (848,850), (851,860), (861,902), (903,911), (912,1006), (1007,1052), (1053,1054), (1055,1071), (1072,1089), (1090,1093), (1094,1097), (1098,1108), (1109,1110), (1111,1112), (1113,1114), (1115,1126), (1127,1131)]  # Define your custom page ranges here\n",
    "\n",
    "split_pdf_custom_ranges(input_pdf_path, output_dir, page_ranges)"
   ]
  },
  {
   "cell_type": "markdown",
   "metadata": {},
   "source": [
    "# Custom pages"
   ]
  },
  {
   "cell_type": "code",
   "execution_count": null,
   "metadata": {},
   "outputs": [],
   "source": [
    "import fitz  # PyMuPDF\n",
    "import os\n",
    "\n",
    "def extract_specific_pages(input_pdf_path, output_dir, page_numbers):\n",
    "    \"\"\"\n",
    "    Extracts specific pages from the PDF and saves them as a separate PDF.\n",
    "\n",
    "    Parameters:\n",
    "    - input_pdf_path: Path to the input PDF file.\n",
    "    - output_dir: Directory to save the output PDF.\n",
    "    - page_numbers: List of page numbers to extract.\n",
    "    \"\"\"\n",
    "    # Open the input PDF file\n",
    "    pdf_document = fitz.open(input_pdf_path)\n",
    "    total_pages = len(pdf_document)\n",
    "    \n",
    "    # Ensure the output directory exists\n",
    "    if not os.path.exists(output_dir):\n",
    "        os.makedirs(output_dir)\n",
    "    \n",
    "    # Create a new PDF for the specified pages\n",
    "    extracted_pdf = fitz.open()\n",
    "    \n",
    "    for page_num in page_numbers:\n",
    "        # Ensure the page number is within the document's range\n",
    "        if page_num < 1 or page_num > total_pages:\n",
    "            print(f\"Invalid page number: {page_num}. Skipping.\")\n",
    "            continue\n",
    "        \n",
    "        # Insert the specified page into the new PDF\n",
    "        extracted_pdf.insert_pdf(pdf_document, from_page=page_num - 1, to_page=page_num - 1)\n",
    "    \n",
    "    # Save the extracted pages as a new PDF\n",
    "    output_pdf_path = os.path.join(output_dir, \"extracted_pages.pdf\")\n",
    "    extracted_pdf.save(output_pdf_path)\n",
    "    extracted_pdf.close()\n",
    "    \n",
    "    # Close the input PDF document\n",
    "    pdf_document.close()\n",
    "\n",
    "\n"
   ]
  },
  {
   "cell_type": "code",
   "execution_count": null,
   "metadata": {},
   "outputs": [],
   "source": [
    "# Example usage:\n",
    "input_pdf_path = \"D:\\\\NTA 8800_2024 nl.pdf\"\n",
    "output_dir = \"D:\\Try21\"\n",
    "page_numbers = [3, 6, 9, 22]  # Specify the exact pages you want to extract\n",
    "\n",
    "extract_specific_pages(input_pdf_path, output_dir, page_numbers)"
   ]
  }
 ],
 "metadata": {
  "kernelspec": {
   "display_name": "DDsaie",
   "language": "python",
   "name": "python3"
  },
  "language_info": {
   "codemirror_mode": {
    "name": "ipython",
    "version": 3
   },
   "file_extension": ".py",
   "mimetype": "text/x-python",
   "name": "python",
   "nbconvert_exporter": "python",
   "pygments_lexer": "ipython3",
   "version": "3.9.17"
  }
 },
 "nbformat": 4,
 "nbformat_minor": 2
}
